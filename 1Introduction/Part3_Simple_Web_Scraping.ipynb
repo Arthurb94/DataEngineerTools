{
 "cells": [
  {
   "cell_type": "markdown",
   "metadata": {},
   "source": [
    "# Introduction"
   ]
  },
  {
   "cell_type": "markdown",
   "metadata": {},
   "source": [
    "Avant de commencer, parcourer le fichier README.rst"
   ]
  },
  {
   "cell_type": "markdown",
   "metadata": {},
   "source": [
    "# Requête HTTP "
   ]
  },
  {
   "cell_type": "markdown",
   "metadata": {},
   "source": [
    "Un requête HTTP est une requête basé sur le protocole TCP, elle fait partie de la couche application de la couche OSI. Elle permet d'accéder aux données mise à disposition sur une adresse IP (ou url résolue par un DNS) et un port. \n",
    "\n",
    "Les deux ports les plus utilisé dans le web sont le 80 pour les sites en HTTP et le 443 pour les sites en HTTPS. HTTPS est une variable du protocole HTTP basé sur le protocole TLS.\n",
    "\n",
    "Il existe de nombreux types de requêtes selon la convention `REST`: \n",
    "- GET\n",
    "- POST\n",
    "- PUT \n",
    "- DELETE\n",
    "- UPDATE.\n",
    "\n",
    "Dans notre cas nous allons utiliser la plupart du temps des GET et potentiellement des POST. \n",
    "- Le GET permet comme sont nom l'indique de récupérer des informations en fonction de certain paramètres. \n",
    "- Le POST nécéssite un envoie de données pour récupérer des données. Le body du post est, la plupart du temps, envoyé sous la forme d'un objet JSON.\n",
    "\n",
    "Ces requêtes encapsulent un certain nombre de paramètres qui permettent soient d'identifier une provenance et un utilisateur ou de réaliser différentes actions."
   ]
  },
  {
   "cell_type": "code",
   "execution_count": 1,
   "metadata": {},
   "outputs": [],
   "source": [
    "import requests"
   ]
  },
  {
   "cell_type": "code",
   "execution_count": 22,
   "metadata": {},
   "outputs": [
    {
     "data": {
      "text/plain": [
       "200"
      ]
     },
     "execution_count": 22,
     "metadata": {},
     "output_type": "execute_result"
    }
   ],
   "source": [
    "url = \"http://www.esiee.fr/\"\n",
    "response = requests.get(url)\n",
    "response.status_code"
   ]
  },
  {
   "cell_type": "markdown",
   "metadata": {},
   "source": [
    "Il existe deux méthodes pour récupérer le contenu de la page :\n",
    "\n",
    "- `response.text` qui permet de retourner le texte sous la forme d'une chaine de charactères.\n",
    "- `response.content` qui permet de récupérer le contenu de la page sous la forme de bytes"
   ]
  },
  {
   "cell_type": "code",
   "execution_count": 3,
   "metadata": {},
   "outputs": [
    {
     "data": {
      "text/plain": [
       "bytes"
      ]
     },
     "execution_count": 3,
     "metadata": {},
     "output_type": "execute_result"
    }
   ],
   "source": [
    "type(response.content)"
   ]
  },
  {
   "cell_type": "code",
   "execution_count": 4,
   "metadata": {},
   "outputs": [
    {
     "data": {
      "text/plain": [
       "str"
      ]
     },
     "execution_count": 4,
     "metadata": {},
     "output_type": "execute_result"
    }
   ],
   "source": [
    "type(response.text)"
   ]
  },
  {
   "cell_type": "markdown",
   "metadata": {},
   "source": [
    "Pour récupérer les 1000 premiers charactères de la page :"
   ]
  },
  {
   "cell_type": "code",
   "execution_count": 6,
   "metadata": {},
   "outputs": [
    {
     "data": {
      "text/plain": [
       "'<!DOCTYPE html>\\r\\n<!--[if lt IE 7]>      <html class=\"no-js lt-ie9 lt-ie8 lt-ie7\"> <![endif]-->\\r\\n<!--[if IE 7]>         <html class=\"no-js lt-ie9 lt-ie8\"> <![endif]-->\\r\\n<!--[if IE 8]>         <html class=\"no-js lt-ie9\"> <![endif]-->\\r\\n<!--[if IE 9]>         <html class=\"no-js ie9\"> <![endif]-->\\r\\n<!--[if gt IE 9]><!--> <html class=\"no-js\"> <!--<![endif]-->\\r\\n<head profile=\"http://www.w3.org/1999/xhtml/vocab\">\\r\\n\\t<!-- Google Analytics -->\\r\\n\\t<script>\\r\\n\\t    <!-- Global site tag (gtag.js) - Google Analytics respecting DNT -->\\r\\n\\t    if ([true, 1, \\'1\\', \\'on\\', \\'yes\\'].indexOf(navigator.doNotTrack || window.doNotTrack || navigator.msDoNotTrack) === -1) {\\r\\n\\t        let gtagId=\\'UA-4033468-1\\', sc=document.createElement(\\'script\\');\\r\\n\\t        sc.async=true;\\r\\n\\t        sc.src=\\'https://www.googletagmanager.com/gtag/js?id=\\' + gtagId;\\r\\n\\t        document.head.appendChild(sc);\\r\\n\\t        \\r\\n\\t        window.dataLayer = window.dataLayer || [];\\r\\n\\t        function gtag(){dataLayer.push(arguments);}\\r\\n\\t        gtag(\\'js\\','"
      ]
     },
     "execution_count": 6,
     "metadata": {},
     "output_type": "execute_result"
    }
   ],
   "source": [
    "response.text[0:1000]"
   ]
  },
  {
   "cell_type": "markdown",
   "metadata": {},
   "source": [
    "Pour récupérer les headers HTTP de la réponse :"
   ]
  },
  {
   "cell_type": "code",
   "execution_count": 7,
   "metadata": {},
   "outputs": [
    {
     "data": {
      "text/plain": [
       "{'Date': 'Mon, 21 Nov 2022 09:28:40 GMT', 'Server': 'Apache', 'Expires': 'Sun, 19 Nov 1978 05:00:00 GMT', 'Cache-Control': 'no-cache, must-revalidate', 'X-Content-Type-Options': 'nosniff', 'Content-Language': 'fr', 'X-Frame-Options': 'SAMEORIGIN', 'Permissions-Policy': 'interest-cohort=()', 'X-Generator': 'Drupal 7 (http://drupal.org)', 'Vary': 'Accept-Encoding', 'Content-Encoding': 'gzip', 'Content-Length': '17879', 'Keep-Alive': 'timeout=5, max=150', 'Connection': 'Keep-Alive', 'Content-Type': 'text/html; charset=utf-8'}"
      ]
     },
     "execution_count": 7,
     "metadata": {},
     "output_type": "execute_result"
    }
   ],
   "source": [
    "response.headers"
   ]
  },
  {
   "cell_type": "markdown",
   "metadata": {},
   "source": [
    "On peut modifier les paramêtres de la requête et/ou ses headers. On peut par exemple ajouter un UserAgent et un timeout de 10 secondes:"
   ]
  },
  {
   "cell_type": "code",
   "execution_count": 8,
   "metadata": {},
   "outputs": [
    {
     "data": {
      "text/plain": [
       "b'<!DOCTYPE html>\\r\\n<!--[if lt IE 7]>      <html class=\"no-js lt-ie9 lt-ie8 lt-ie7\"> <![endif]-->\\r\\n<!--[if IE 7]>         <html class=\"no-js lt-ie9 lt-ie8\"> <![endif]-->\\r\\n<!--[if IE 8]>         <html class=\"no-js lt-ie9\"> <![endif]-->\\r\\n<!--[if IE 9]>         <html class=\"no-js ie9\"> <![endif]-->\\r\\n<!--[if gt IE 9]><!--> <html class=\"no-js\"> <!--<![endif]-->\\r\\n<head profile=\"http://www.w3.org/1999/xhtml/vocab\">\\r\\n\\t<!-- Google Analytics -->\\r\\n\\t<script>\\r\\n\\t    <!-- Global site tag (gtag.js) - Google Analytics respecting DNT -->\\r\\n\\t    if ([true, 1, \\'1\\', \\'on\\', \\'yes\\'].indexOf(navigator.doNotTrack || window.doNotTrack || navigator.msDoNotTrack) === -1) {\\r\\n\\t        let gtagId=\\'UA-4033468-1\\', sc=document.createElement(\\'script\\');\\r\\n\\t        sc.async=true;\\r\\n\\t        sc.src=\\'https://www.googletagmanager.com/gtag/js?id=\\' + gtagId;\\r\\n\\t        document.head.appendChild(sc);\\r\\n\\t        \\r\\n\\t        window.dataLayer = window.dataLayer || [];\\r\\n\\t        function gtag(){dataLayer.push(arguments);}\\r\\n\\t        gtag(\\'js\\','"
      ]
     },
     "execution_count": 8,
     "metadata": {},
     "output_type": "execute_result"
    }
   ],
   "source": [
    "headers = {'User-Agent': 'Mozilla/5.0 (Macintosh; Intel Mac OS X 10_10_1) AppleWebKit/537.36 (KHTML, like Gecko) Chrome/39.0.2171.95 Safari/537.36'}\n",
    "response = requests.get(url, headers=headers, timeout = 10)\n",
    "response.content[0:1000]"
   ]
  },
  {
   "cell_type": "markdown",
   "metadata": {},
   "source": [
    "## Exercice"
   ]
  },
  {
   "cell_type": "markdown",
   "metadata": {},
   "source": [
    "## Exercice 1\n",
    "\n",
    "- Créer une classe Python permettant de faire des requêtes HTTP.\n",
    "- Cette classe doit utiliser toujours le même UserAgent.\n",
    "- Le TimeOut sera spécifié à chaque appelle avec une valeur par défaut.\n",
    "- Un mécanisme de retry sera mis en place de façon recursive.\n",
    "\n",
    "## Exercice 2\n",
    "\n",
    "- Faire une fonction permettant de supprimer tous les espaces supperflus d'une caracing\n",
    "- Faire une fonction qui prend une string html et renvois une string intelligible (enlever les caractères spéciaux,\n",
    "- Récupérer le domaine en fonction d'un url"
   ]
  },
  {
   "cell_type": "code",
   "execution_count": 64,
   "metadata": {},
   "outputs": [],
   "source": [
    "# Exercie 1\n",
    "class HTTP():\n",
    "    def __init__(self,url):\n",
    "        self.headers = {'User-Agent': 'Mozilla/5.0 (Macintosh; Intel Mac OS X 10_10_1) AppleWebKit/537.36 (KHTML, like Gecko) Chrome/39.0.2171.95 Safari/537.36'}\n",
    "        self.url = url\n",
    "        self.data = 0\n",
    "        \n",
    "    def request(self):\n",
    "        try:\n",
    "            self.data = requests.get(self.url, headers=self.headers, timeout = 10)\n",
    "            print(f\"Requete effectuée sur {self.url} avec un timeout par défaut de 10 secondes.\")\n",
    "        except:\n",
    "            print(\"probleme \")\n",
    "            \n",
    "    def print_request(self,x):\n",
    "        print(self.data.content[0:x])\n"
   ]
  },
  {
   "cell_type": "code",
   "execution_count": 66,
   "metadata": {},
   "outputs": [
    {
     "name": "stdout",
     "output_type": "stream",
     "text": [
      "Requete effectuée sur http://www.esiee.fr/ avec un timeout par défaut de 10 secondes.\n",
      "b'<!DOCTYPE html>\\r\\n<!--[if lt IE 7]>      <html class=\"no-js lt-ie9 lt-ie8 lt-ie7\"> <![endif]-->\\r\\n<!--[if IE 7]>         <html class=\"no-js lt-ie9 lt-ie8\"> <![endif]-->\\r\\n<!--[if IE 8]>         <html class=\"no-js lt-ie9\"> <![endif]-->\\r\\n<!--[if IE 9]>         <html class=\"no-js ie9\"> <![endif]-->\\r\\n<!--[if gt IE 9]><!--> <html class=\"no-js\"> <!--<![endif]-->\\r\\n<head profile=\"http://www.w3.org/1999/xhtml/vocab\">\\r\\n\\t<!-- Google Analytics -->\\r\\n\\t<script>\\r\\n\\t    <!-- Global site tag (gtag.js) - Google Analytics respecting DNT -->\\r\\n\\t    if ([true, 1, \\'1\\', \\'on\\', \\'yes\\'].indexOf(navigator.doNotTrack || window.doNotTrack || navigator.msDoNotTrack) === -1) {\\r\\n\\t        let gtagId=\\'UA-4033468-1\\', sc=document.createElement(\\'script\\');\\r\\n\\t        sc.async=true;\\r\\n\\t        sc.src=\\'https://www.googletagmanager.com/gtag/js?id=\\' + gtagId;\\r\\n\\t        document.head.appendChild(sc);\\r\\n\\t        \\r\\n\\t        window.dataLayer = window.dataLayer || [];\\r\\n\\t        function gtag(){dataLayer.push(arguments);}\\r\\n\\t        gtag(\\'js\\','\n"
     ]
    }
   ],
   "source": [
    "requete = HTTP(\"http://www.esiee.fr/\")\n",
    "\n",
    "requete.request()\n",
    "requete.print_request(1000)\n"
   ]
  },
  {
   "cell_type": "code",
   "execution_count": 133,
   "metadata": {},
   "outputs": [],
   "source": [
    "# Exercice 2\n",
    "def no_space(carac):\n",
    "    res = \" \".join(carac.split())      \n",
    "    print(res)\n",
    "    \n",
    "def clear_html(html):\n",
    "    res = no_space(html)\n",
    "    "
   ]
  },
  {
   "cell_type": "code",
   "execution_count": 134,
   "metadata": {},
   "outputs": [
    {
     "name": "stdout",
     "output_type": "stream",
     "text": [
      "oula c le code la\n",
      "oula c le code la\n",
      "oula c le code la\n"
     ]
    }
   ],
   "source": [
    "ggg = \"oula    c  le code  la\"\n",
    "no_space(ggg)"
   ]
  },
  {
   "cell_type": "markdown",
   "metadata": {},
   "source": [
    "# Exploitation du HTML  "
   ]
  },
  {
   "cell_type": "markdown",
   "metadata": {},
   "source": [
    "Ici, il faut récupérer le code HTML d'un site web à partir d'une requête. Lorsque vous avez récupéré le texte d'un site il faut le parser. Pour cela, on utilise BeautifulSoup qui permet de transformer la structure HTML en objet Python. Cela permet de récupérer efficacement les données qui nous intéresse.\n",
    "\n",
    "Pour les webmasters, le blocage le plus souvent mis en place et un blocage sur le User-Agent. Le User-Agent est un paramètre intégré dans la requête HTTP réalisé par le Navigateur pour envoyer au front des informations basiques :\n",
    "\n",
    "- la version du Navigateur,\n",
    "- la version de l'OS\n",
    "- Le type de gestionnaire graphique (Gecko)\n",
    "- le type de device utilisé"
   ]
  },
  {
   "cell_type": "markdown",
   "metadata": {},
   "source": [
    "Exemple de User Agent :  \n",
    "\n",
    "`Mozilla/5.0 (Windows NT 6.1; Win64; x64; rv:47.0) Gecko/20100101 Firefox/47.0`"
   ]
  },
  {
   "cell_type": "markdown",
   "metadata": {},
   "source": [
    "Commençons à utiliser `BeautifulSoup`, pour l'installer : "
   ]
  },
  {
   "cell_type": "code",
   "execution_count": 135,
   "metadata": {},
   "outputs": [
    {
     "name": "stdout",
     "output_type": "stream",
     "text": [
      "\u001b[33mDEPRECATION: Configuring installation scheme with distutils config files is deprecated and will no longer work in the near future. If you are using a Homebrew or Linuxbrew Python, please see discussion at https://github.com/Homebrew/homebrew-core/issues/76621\u001b[0m\u001b[33m\n",
      "\u001b[0mCollecting bs4\n",
      "  Downloading bs4-0.0.1.tar.gz (1.1 kB)\n",
      "  Preparing metadata (setup.py) ... \u001b[?25ldone\n",
      "\u001b[?25hCollecting beautifulsoup4\n",
      "  Downloading beautifulsoup4-4.11.1-py3-none-any.whl (128 kB)\n",
      "\u001b[2K     \u001b[90m━━━━━━━━━━━━━━━━━━━━━━━━━━━━━━━━━━━━━━━\u001b[0m \u001b[32m128.2/128.2 kB\u001b[0m \u001b[31m1.7 MB/s\u001b[0m eta \u001b[36m0:00:00\u001b[0ma \u001b[36m0:00:01\u001b[0m\n",
      "\u001b[?25hCollecting soupsieve>1.2\n",
      "  Downloading soupsieve-2.3.2.post1-py3-none-any.whl (37 kB)\n",
      "Building wheels for collected packages: bs4\n",
      "  Building wheel for bs4 (setup.py) ... \u001b[?25ldone\n",
      "\u001b[?25h  Created wheel for bs4: filename=bs4-0.0.1-py3-none-any.whl size=1257 sha256=238ea4922f64edfac88b331204e2b27a91e9f2c97137b5ba94437e79407468ff\n",
      "  Stored in directory: /Users/Arthur1/Library/Caches/pip/wheels/73/2b/cb/099980278a0c9a3e57ff1a89875ec07bfa0b6fcbebb9a8cad3\n",
      "Successfully built bs4\n",
      "Installing collected packages: soupsieve, beautifulsoup4, bs4\n",
      "\u001b[33m  DEPRECATION: Configuring installation scheme with distutils config files is deprecated and will no longer work in the near future. If you are using a Homebrew or Linuxbrew Python, please see discussion at https://github.com/Homebrew/homebrew-core/issues/76621\u001b[0m\u001b[33m\n",
      "\u001b[0m\u001b[33m  DEPRECATION: Configuring installation scheme with distutils config files is deprecated and will no longer work in the near future. If you are using a Homebrew or Linuxbrew Python, please see discussion at https://github.com/Homebrew/homebrew-core/issues/76621\u001b[0m\u001b[33m\n",
      "\u001b[0m\u001b[33m  DEPRECATION: Configuring installation scheme with distutils config files is deprecated and will no longer work in the near future. If you are using a Homebrew or Linuxbrew Python, please see discussion at https://github.com/Homebrew/homebrew-core/issues/76621\u001b[0m\u001b[33m\n",
      "\u001b[0m\u001b[33mDEPRECATION: Configuring installation scheme with distutils config files is deprecated and will no longer work in the near future. If you are using a Homebrew or Linuxbrew Python, please see discussion at https://github.com/Homebrew/homebrew-core/issues/76621\u001b[0m\u001b[33m\n",
      "\u001b[0mSuccessfully installed beautifulsoup4-4.11.1 bs4-0.0.1 soupsieve-2.3.2.post1\n",
      "\u001b[33mWARNING: There was an error checking the latest version of pip.\u001b[0m\u001b[33m\n",
      "\u001b[0m\u001b[33mDEPRECATION: Configuring installation scheme with distutils config files is deprecated and will no longer work in the near future. If you are using a Homebrew or Linuxbrew Python, please see discussion at https://github.com/Homebrew/homebrew-core/issues/76621\u001b[0m\u001b[33m\n",
      "\u001b[0mRequirement already satisfied: lxml in /usr/local/lib/python3.9/site-packages (4.9.1)\n",
      "\u001b[33mDEPRECATION: Configuring installation scheme with distutils config files is deprecated and will no longer work in the near future. If you are using a Homebrew or Linuxbrew Python, please see discussion at https://github.com/Homebrew/homebrew-core/issues/76621\u001b[0m\u001b[33m\n",
      "\u001b[0m\u001b[33mWARNING: There was an error checking the latest version of pip.\u001b[0m\u001b[33m\n",
      "\u001b[0m"
     ]
    }
   ],
   "source": [
    "!pip install bs4\n",
    "!pip install  lxml"
   ]
  },
  {
   "cell_type": "code",
   "execution_count": 136,
   "metadata": {},
   "outputs": [],
   "source": [
    "import requests\n",
    "from bs4 import BeautifulSoup"
   ]
  },
  {
   "cell_type": "markdown",
   "metadata": {},
   "source": [
    "Pour transformer une requête (requests) en objet BeautifulSoup :"
   ]
  },
  {
   "cell_type": "code",
   "execution_count": 17,
   "metadata": {},
   "outputs": [],
   "source": [
    "response = requests.get(url)\n",
    "soup = BeautifulSoup(response.text)"
   ]
  },
  {
   "cell_type": "markdown",
   "metadata": {},
   "source": [
    "Il se peut qu'un message d'erreur arrive à ce point là si vous n'avez pas la librarie `lxml` installée, pour se faire vous avez juste à lancer la commande suivante : "
   ]
  },
  {
   "cell_type": "code",
   "execution_count": 18,
   "metadata": {},
   "outputs": [
    {
     "name": "stdout",
     "output_type": "stream",
     "text": [
      "Requirement already satisfied: lxml in /anaconda3/lib/python3.7/site-packages (4.4.1)\r\n"
     ]
    }
   ],
   "source": [
    "!pip install lxml"
   ]
  },
  {
   "cell_type": "markdown",
   "metadata": {},
   "source": [
    "Pour trouver tous les liens d'une page on récupère la balise `a` qui permet de gérer les liens en HTML  :"
   ]
  },
  {
   "cell_type": "code",
   "execution_count": 19,
   "metadata": {},
   "outputs": [
    {
     "data": {
      "text/plain": [
       "[<a href=\"#\">\n",
       " <i class=\"icon-parametres\"></i>\n",
       " </a>,\n",
       " <a href=\"https://gmail.com\" target=\"_blank\" title=\"Webmail ESIEE Paris\"><i><img alt=\"\" src=\"https://www.esiee.fr/sites/default/files/menu_icons/menu_icon_950.png\"/> </i><span>Webmail ESIEE Paris</span></a>,\n",
       " <a href=\"https://planif.esiee.fr/direct/\" target=\"_blank\" title=\"Emploi du temps général\"><i><img alt=\"\" src=\"https://www.esiee.fr/sites/default/files/menu_icons/menu_icon_1331.png\"/> </i><span>Emploi du temps général</span></a>,\n",
       " <a href=\"https://planif.esiee.fr/jsp/custom/esiee/easyMyPlanning.jsp\" target=\"_blank\" title=\"Emploi du temps individuel\"><i><img alt=\"\" src=\"https://www.esiee.fr/sites/default/files/menu_icons/menu_icon_1332.png\"/> </i><span>Emploi du temps individuel</span></a>,\n",
       " <a href=\"https://intra.esiee.fr\" target=\"_blank\" title=\"Extranet\"><i><img alt=\"\" src=\"https://www.esiee.fr/sites/default/files/menu_icons/menu_icon_951.png\"/> </i><span>Extranet</span></a>,\n",
       " <a href=\"https://esiee.blackboard.com\" target=\"_blank\" title=\"iCampus\"><i><img alt=\"\" src=\"https://www.esiee.fr/sites/default/files/menu_icons/menu_icon_1311.png\"/> </i><span>iCampus</span></a>,\n",
       " <a href=\"http://e5.onthehub.com/WebStore/Welcome.aspx?vsro=8&amp;ws=45AD823E-799B-E011-969D-0030487D8897&amp;JSEnabled=1\" target=\"_blank\" title=\"Microsoft DreamSpark\"><i><img alt=\"\" src=\"https://www.esiee.fr/sites/default/files/menu_icons/menu_icon_1696.png\"/> </i><span>Microsoft DreamSpark</span></a>,\n",
       " <a href=\"/en\">\n",
       " <i>\n",
       " <img alt=\"English\" src=\"/sites/all/themes/custom/esiee_theme/assets/images/flag-en.png\"/>\n",
       " </i>\n",
       " </a>,\n",
       " <a href=\"https://www.facebook.com/esieeparis\" target=\"_blank\">\n",
       " <i class=\"fa fa-facebook\"></i>\n",
       " </a>,\n",
       " <a href=\"https://twitter.com/ESIEEPARIS\" target=\"_blank\">\n",
       " <i class=\"fa fa-twitter\"></i>\n",
       " </a>]"
      ]
     },
     "execution_count": 19,
     "metadata": {},
     "output_type": "execute_result"
    }
   ],
   "source": [
    "soup.find_all(\"a\")[0:10]"
   ]
  },
  {
   "cell_type": "markdown",
   "metadata": {},
   "source": [
    "On peut préciser la classe HTML voulue  pour l'ensemble des `a`:\n",
    "\n",
    "```python\n",
    "soup.find_all(class_=\"<CLASS_NAME>\")[0:10]\n",
    "```\n",
    "\n",
    "Ici par exemple: "
   ]
  },
  {
   "cell_type": "code",
   "execution_count": 20,
   "metadata": {},
   "outputs": [
    {
     "data": {
      "text/plain": [
       "[<div class=\"slide slide-content\">\n",
       " <span class=\"slide-content-date inline-block\"><span class=\"date-display-single\">19.11.2019</span></span>\n",
       " <span class=\"slide-content-theme inline-block is-uppercase\">Evènements</span>\n",
       " <div class=\"clearfix\"></div>\n",
       " <div class=\"slide-content-img pull-left\"><!-- scald=2387:news_thumbnail --><img alt=\"Vignette Webserie Episode 1\" height=\"90\" src=\"https://www.esiee.fr/sites/default/files/styles/news/public/thumbnails/image/vignette-episode-1.jpg.png?itok=zxvSPpas\" title=\"Vignette Webserie Episode 1\" width=\"120\"/><!-- END scald=2387 --></div>\n",
       " <span class=\"slide-content-title\"><a class=\"is-uppercase\" href=\"/fr/actualite/webserie-yann-lecun-prix-turing\">Lancement de la webserie Yann LeCun Prix Turing et ESIEE Paris</a></span>\n",
       " <div class=\"clearfix\"></div>\n",
       " <p class=\"slide-content-desc\">Découvrez la nouvelle Webserie sur l'histoire commune entre Yann LeCun, lauréat du Prix Turing, et ESIEE Paris.</p> </div>,\n",
       " <div class=\"slide slide-content\">\n",
       " <span class=\"slide-content-date inline-block\"><span class=\"date-display-single\">21.10.2019</span></span>\n",
       " <span class=\"slide-content-theme inline-block is-uppercase\">Salons</span>\n",
       " <div class=\"clearfix\"></div>\n",
       " <div class=\"slide-content-img pull-left\"><!-- scald=2280:news_thumbnail --><img alt=\"Salons\" height=\"90\" src=\"https://www.esiee.fr/sites/default/files/styles/news/public/thumbnails/image/generique-salons.png?itok=2Y0RvWr2\" title=\"Salons\" width=\"120\"/><!-- END scald=2280 --></div>\n",
       " <span class=\"slide-content-title\"><a class=\"is-uppercase\" href=\"/fr/actualite/salons-etudiants-novembre-2019\">Salons étudiants | Rendez-vous avec ESIEE Paris en Novembre !</a></span>\n",
       " <div class=\"clearfix\"></div>\n",
       " <p class=\"slide-content-desc\">Vous recherchez une formation d'ingénieur ? Découvrez les filières ESIEE Paris.</p> </div>,\n",
       " <div class=\"slide slide-content\">\n",
       " <span class=\"slide-content-date inline-block\"><span class=\"date-display-single\">20.09.2019</span></span>\n",
       " <span class=\"slide-content-theme inline-block is-uppercase\">Journée portes ouvertes</span>\n",
       " <div class=\"clearfix\"></div>\n",
       " <div class=\"slide-content-img pull-left\"><!-- scald=2282:news_thumbnail --><img alt=\"JPO ESIEE Paris\" height=\"90\" src=\"https://www.esiee.fr/sites/default/files/styles/news/public/thumbnails/image/generique-jpo.jpg?itok=Y_OmDg80\" title=\"JPO ESIEE Paris\" width=\"120\"/><!-- END scald=2282 --></div>\n",
       " <span class=\"slide-content-title\"><a class=\"is-uppercase\" href=\"/fr/actualite/portes-ouvertes-14-decembre-2019\">14 décembre 2019 | Journée Portes Ouvertes</a></span>\n",
       " <div class=\"clearfix\"></div>\n",
       " <p class=\"slide-content-desc\">Bien choisir son école, c'est aussi la rencontrer ! Rendez-vous le 14 décembre 2019 (13 h à 18 h) à ESIEE Paris.</p> </div>,\n",
       " <div class=\"slide slide-content\">\n",
       " <span class=\"slide-content-date inline-block\"><span class=\"date-display-single\">21.11.2019</span></span>\n",
       " <span class=\"slide-content-theme inline-block is-uppercase\">Conférences</span>\n",
       " <div class=\"clearfix\"></div>\n",
       " <div class=\"slide-content-img pull-left\"><!-- scald=2390:news_thumbnail --><img alt=\"Conférence de clôture de la chaire Blaise Pascal\" height=\"90\" src=\"https://www.esiee.fr/sites/default/files/styles/news/public/thumbnails/image/illustration-conference-professeur-cui-2019_0.png?itok=k1zH48d0\" title=\"Conférence de clôture de la chaire Blaise Pascal\" width=\"120\"/><!-- END scald=2390 --></div>\n",
       " <span class=\"slide-content-title\"><a class=\"is-uppercase\" href=\"/fr/actualite/recherche-professeur-cui-conference-2019\">Chaire Blaise Pascal - Conférence de clôture du Professeur CUI, Professeur invité</a></span>\n",
       " <div class=\"clearfix\"></div>\n",
       " <p class=\"slide-content-desc\">Le Professeur Tianhong CUI, Professeur en ingénierie mécanique de renommée mondiale effectuera sa dernière conférence dans le cadre de la chaire Blaise Pascal.</p> </div>,\n",
       " <div class=\"slide slide-content\">\n",
       " <span class=\"slide-content-date inline-block\"><span class=\"date-display-single\">12.09.2019</span></span>\n",
       " <span class=\"slide-content-theme inline-block is-uppercase\">Evènements</span>\n",
       " <div class=\"clearfix\"></div>\n",
       " <div class=\"slide-content-img pull-left\"><!-- scald=2253:news_thumbnail --><img alt=\"FUTURE Days 2019\" height=\"90\" src=\"https://www.esiee.fr/sites/default/files/styles/news/public/thumbnails/image/illustration-futuredays2019-v3.jpg?itok=GUrdDpt6\" title=\"FUTURE Days 2019\" width=\"120\"/><!-- END scald=2253 --></div>\n",
       " <span class=\"slide-content-title\"><a class=\"is-uppercase\" href=\"/fr/actualite/futuredays-2019\">Participez aux FUTURE Days 2019, l’évènement du grand Paris sur les villes de demain</a></span>\n",
       " <div class=\"clearfix\"></div>\n",
       " <p class=\"slide-content-desc\">FUTURES Days \"Héritages et anticipations urbaines\" | Les 27 et 28 novembre 2019</p> </div>]"
      ]
     },
     "execution_count": 20,
     "metadata": {},
     "output_type": "execute_result"
    }
   ],
   "source": [
    "soup.find_all(class_=\"slide\")[0:5]"
   ]
  },
  {
   "cell_type": "markdown",
   "metadata": {},
   "source": [
    "Pour récupérer le text sans les balises HTML :"
   ]
  },
  {
   "cell_type": "code",
   "execution_count": 21,
   "metadata": {},
   "outputs": [
    {
     "data": {
      "text/plain": [
       "\"\\n\\n\\n\\n\\n  \\n\\n\\n\\n\\n\\n\\nESIEE Paris, l’école de l’innovation technologique | Grande école d’ingénieurs | ESIEE Paris\\n\\n\\n\\n\\n\\n\\n\\n\\n\\n\\n\\n\\n \\n\\n\\n\\n\\n\\n\\n\\n\\n\\n\\n\\nLes outils ESIEE Paris Webmail ESIEE Paris Emploi du temps général Emploi du temps individuel Extranet iCampus Microsoft DreamSpark \\n\\n\\n\\n\\n\\n\\n\\n\\n\\n\\n\\n\\n\\n\\n\\n\\n\\n\\n\\n\\n\\n\\n\\n\\n\\n\\n\\n\\n\\n\\n\\n\\n\\n\\n\\n\\n\\n\\n\\n\\n\\n\\n\\n\\n\\n\\n menu\\nFormations\\n\\n\\nRETOUR menu\\nFormations ESIEE ParisIngénieur\\n\\n\\nIngénieur\\nRETOUR Formations\\nIngénieur ESIEE ParisPremier cycleLe cycle ingénieur\\n\\n\\nLe cycle ingénieur\\nRETOUR Ingénieur\\nLe cycle ingénieur ESIEE ParisEnseignements de 1ère annéeEnseignements de 2e et 3e annéeProfils métiersFilières\\n\\n\\nFilières\\nRETOUR Ingénieur\\n8 filières, 1 diplômeInformatiqueCybersécurité des Systèmes d'informationDatascience et intelligence artificielleSystèmes embarquésSystèmes électroniques intelligentsGénie industrielBiotechnologies et e-santéEnergieEmplois et salairesFrais de scolarité ingénieur et aides financièresStagesAdmissionsContactIngénieur par apprentissage\\n\\n\\nIngénieur par apprentissage\\nR\""
      ]
     },
     "execution_count": 21,
     "metadata": {},
     "output_type": "execute_result"
    }
   ],
   "source": [
    "soup.text[0:1000]"
   ]
  },
  {
   "cell_type": "markdown",
   "metadata": {},
   "source": [
    "## Exercice\n",
    "### Exercice 3\n",
    "\n",
    "Améliorer la classe développé précédemment.\n",
    "\n",
    "- Ajouter une méthode pour récupérer l'objet soup d'un url\n",
    "- Récupérer une liste de User Agent et effectuer une rotation aléatoire sur celui à utiliser\n",
    "- Utiliser cette classe pour parser une page HTML et récupérer : le titre, tous les H1 (si ils existent), les liens vers les images, les liens sortants vers d'autres sites, et le texte principal.\n",
    "\n",
    "Parsing d'un sitemaps pour récupérer une listes de liens avec les informations disponibles. -> Stocker dans un dictionnaire et dans un fichier JSON local."
   ]
  },
  {
   "cell_type": "markdown",
   "metadata": {},
   "source": [
    "# Exploitation des appels d'API\n"
   ]
  },
  {
   "cell_type": "markdown",
   "metadata": {},
   "source": [
    "\n",
    "Losque le front du site récupère des données sur une API géré par le back, un appel d'API est réalisé. Cet appel est recensé dans les appels réseaux. Il est alors possible de re-jouer cet appel pour récupérer à nouveau les données. Il est très facile de récupérer ces appels dans l'onglet Network de la console développeur de Chrome ou FireFox. La console vous permet de copier le code CURL pour effectuée et vous pouvez ensuite la transformer en code Python depuis le site https://curl.trillworks.com/.\n",
    "\n",
    "Souvent les APIs sont bloquées avec certain paramètres. L'API verifie que dans les headers de la requêtes HTTP ces paramètres sont présents : * un token généré à la volée avec des protocole OAuth2 (ou moins développés). * un referer provenant du site web (la source de la requête), très facile à falsifier.\n",
    "\n"
   ]
  },
  {
   "cell_type": "markdown",
   "metadata": {},
   "source": [
    "## Exercice \n",
    "### Exercice 4\n",
    "\n",
    "- Utiliser les informations développées plus haut pour récupérer les premiers résultats d'une recherche d'une requête\n",
    "sur Qwant. \n",
    "\n",
    "Tips : \n",
    "\n",
    "- Aller sur https://www.qwant.com/\n",
    "- Ouvrir les outils de développements de Chrome ou Firefox\n",
    "- Onglet Network\n",
    "- Fouiller dans les requêtes"
   ]
  },
  {
   "cell_type": "markdown",
   "metadata": {},
   "source": [
    "# Exercice Final  "
   ]
  },
  {
   "cell_type": "markdown",
   "metadata": {},
   "source": [
    "Exercice Final\n",
    "Utilisez tout ce que vous avez appris pour récupérer des articles de News avec une catégorie. Il est souvent intéressant de partir des flux RSS pour commencer :\n",
    "\n",
    "Les données doivent comprendre :\n",
    "- Le texte important propre\n",
    "- L'url\n",
    "- Le domaine\n",
    "- la catégorie\n",
    "- Le titre de l'article\n",
    "- Le titre de la page\n",
    "- (Facultatif) : les images\n",
    "\n",
    "Tips : \n",
    "\n",
    "- Taper le nom de votre média favoris + RSS (par exemple : https://www.lemonde.fr/rss/)\n",
    "- Aller dans le DOM de la page \n",
    "- Trouver les catégories et les liens vers les articles"
   ]
  },
  {
   "cell_type": "code",
   "execution_count": null,
   "metadata": {},
   "outputs": [],
   "source": []
  }
 ],
 "metadata": {
  "kernelspec": {
   "display_name": "Python 3.9.13 64-bit",
   "language": "python",
   "name": "python3"
  },
  "language_info": {
   "codemirror_mode": {
    "name": "ipython",
    "version": 3
   },
   "file_extension": ".py",
   "mimetype": "text/x-python",
   "name": "python",
   "nbconvert_exporter": "python",
   "pygments_lexer": "ipython3",
   "version": "3.9.13"
  },
  "vscode": {
   "interpreter": {
    "hash": "aee8b7b246df8f9039afb4144a1f6fd8d2ca17a180786b69acc140d282b71a49"
   }
  }
 },
 "nbformat": 4,
 "nbformat_minor": 2
}
